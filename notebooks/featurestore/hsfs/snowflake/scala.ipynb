{
 "cells": [
  {
   "source": [
    "## Snowflake (On-Demand) Feature Group \n",
    "This tutorial notebook will show how you can define an external feature group for a table in Snowflake.\n",
    "\n",
    "In this notebook we assume that you already have snowflake account and did the getting started with snowflake tutorial.\n"
   ],
   "cell_type": "markdown",
   "metadata": {}
  },
  {
   "cell_type": "code",
   "execution_count": 1,
   "id": "virtual-acrobat",
   "metadata": {},
   "outputs": [
    {
     "name": "stdout",
     "output_type": "stream",
     "text": [
      "Starting Spark application\n"
     ]
    },
    {
     "data": {
      "text/html": [
       "<table>\n",
       "<tr><th>ID</th><th>YARN Application ID</th><th>Kind</th><th>State</th><th>Spark UI</th><th>Driver log</th></tr><tr><td>3</td><td>application_1613047633525_0004</td><td>spark</td><td>idle</td><td><a target=\"_blank\" href=\"http://hopsworks0.logicalclocks.com:8088/proxy/application_1613047633525_0004/\">Link</a></td><td><a target=\"_blank\" href=\"http://hopsworks0.logicalclocks.com:8042/node/containerlogs/container_e01_1613047633525_0004_01_000001/project1__meb10000\">Link</a></td></tr></table>"
      ],
      "text/plain": [
       "<IPython.core.display.HTML object>"
      ]
     },
     "metadata": {},
     "output_type": "display_data"
    },
    {
     "name": "stdout",
     "output_type": "stream",
     "text": [
      "SparkSession available as 'spark'.\n",
      "import com.logicalclocks.hsfs._\n"
     ]
    }
   ],
   "source": [
    "import com.logicalclocks.hsfs._"
   ]
  },
  {
   "cell_type": "code",
   "execution_count": null,
   "id": "governmental-arthur",
   "metadata": {},
   "outputs": [],
   "source": [
    "val connection = HopsworksConnection.builder().build();\n",
    "val fs = connection.getFeatureStore();"
   ]
  },
  {
   "cell_type": "code",
   "execution_count": null,
   "id": "differential-cambodia",
   "metadata": {},
   "outputs": [],
   "source": [
    "val snowflakeConn = fs.getStorageConnector(\"sfconnector\")\n",
    "var sfOptions = snowflakeConn.getSparkOptionsInt"
   ]
  },
  {
   "cell_type": "code",
   "execution_count": 6,
   "id": "formed-traveler",
   "metadata": {},
   "outputs": [
    {
     "name": "stdout",
     "output_type": "stream",
     "text": [
      "df: org.apache.spark.sql.DataFrame = [CUSTOMER_ID: string, GENDER: string ... 19 more fields]\n",
      "+-----------+------+--------------+-------+----------+------+-------------+----------------+----------------+---------------+-------------+-----------------+------------+------------+----------------+--------------+-----------------+--------------------+---------------+-------------+-----+\n",
      "|CUSTOMER_ID|GENDER|SENIOR_CITIZEN|PARTNER|DEPENDENTS|TENURE|PHONE_SERVICE|  MULTIPLE_LINES|INTERNET_SERVICE|ONLINE_SECURITY|ONLINE_BACKUP|DEVICE_PROTECTION|TECH_SUPPORT|STREAMING_TV|STREAMING_MOVIES|      CONTRACT|PAPERLESS_BILLING|      PAYMENT_METHOD|MONTHLY_CHARGES|TOTAL_CHARGES|CHURN|\n",
      "+-----------+------+--------------+-------+----------+------+-------------+----------------+----------------+---------------+-------------+-----------------+------------+------------+----------------+--------------+-----------------+--------------------+---------------+-------------+-----+\n",
      "| 7590-VHVEG|Female|             0|    Yes|        No|     1|           No|No phone service|             DSL|             No|          Yes|               No|          No|          No|              No|Month-to-month|              Yes|    Electronic check|          29.85|        29.85|   No|\n",
      "| 5575-GNVDE|  Male|             0|     No|        No|    34|          Yes|              No|             DSL|            Yes|           No|              Yes|          No|          No|              No|      One year|               No|        Mailed check|          56.95|       1889.5|   No|\n",
      "| 3668-QPYBK|  Male|             0|     No|        No|     2|          Yes|              No|             DSL|            Yes|          Yes|               No|          No|          No|              No|Month-to-month|              Yes|        Mailed check|          53.85|       108.15|  Yes|\n",
      "| 7795-CFOCW|  Male|             0|     No|        No|    45|           No|No phone service|             DSL|            Yes|           No|              Yes|         Yes|          No|              No|      One year|               No|Bank transfer (au...|           42.3|      1840.75|   No|\n",
      "| 9237-HQITU|Female|             0|     No|        No|     2|          Yes|              No|     Fiber optic|             No|           No|               No|          No|          No|              No|Month-to-month|              Yes|    Electronic check|           70.7|       151.65|  Yes|\n",
      "| 9305-CDSKC|Female|             0|     No|        No|     8|          Yes|             Yes|     Fiber optic|             No|           No|              Yes|          No|         Yes|             Yes|Month-to-month|              Yes|    Electronic check|          99.65|        820.5|  Yes|\n",
      "| 1452-KIOVK|  Male|             0|     No|       Yes|    22|          Yes|             Yes|     Fiber optic|             No|          Yes|               No|          No|         Yes|              No|Month-to-month|              Yes|Credit card (auto...|           89.1|       1949.4|   No|\n",
      "| 6713-OKOMC|Female|             0|     No|        No|    10|           No|No phone service|             DSL|            Yes|           No|               No|          No|          No|              No|Month-to-month|               No|        Mailed check|          29.75|        301.9|   No|\n",
      "| 7892-POOKP|Female|             0|    Yes|        No|    28|          Yes|             Yes|     Fiber optic|             No|           No|              Yes|         Yes|         Yes|             Yes|Month-to-month|              Yes|    Electronic check|          104.8|      3046.05|  Yes|\n",
      "| 6388-TABGU|  Male|             0|     No|       Yes|    62|          Yes|              No|             DSL|            Yes|          Yes|               No|          No|          No|              No|      One year|               No|Bank transfer (au...|          56.15|      3487.95|   No|\n",
      "+-----------+------+--------------+-------+----------+------+-------------+----------------+----------------+---------------+-------------+-----------------+------------+------------+----------------+--------------+-----------------+--------------------+---------------+-------------+-----+\n",
      "only showing top 10 rows\n",
      "\n"
     ]
    }
   ],
   "source": [
    "val df = spark.read.format(\"net.snowflake.spark.snowflake\").options(sfOptions).load()\n",
    "df.show(10)"
   ]
  },
  {
   "cell_type": "code",
   "execution_count": null,
   "id": "global-briefing",
   "metadata": {},
   "outputs": [],
   "source": []
  }
 ],
 "metadata": {
  "kernelspec": {
   "display_name": "Spark",
   "language": "scala",
   "name": "sparkkernel"
  },
  "language_info": {
   "codemirror_mode": "text/x-scala",
   "mimetype": "text/x-scala",
   "name": "scala",
   "pygments_lexer": "scala"
  }
 },
 "nbformat": 4,
 "nbformat_minor": 5
}